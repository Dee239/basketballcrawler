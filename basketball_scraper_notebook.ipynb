{
 "cells": [
  {
   "cell_type": "markdown",
   "metadata": {},
   "source": [
    "Let's get started by importing the basketball parser module and loading the player dictionary from local JSON.  We'll also load some other utility modules.  This notebook server was started with `ipython notebook`"
   ]
  },
  {
   "cell_type": "code",
   "execution_count": 1,
   "metadata": {
    "collapsed": false
   },
   "outputs": [],
   "source": [
    "%matplotlib inline\n",
    "import warnings\n",
    "warnings.filterwarnings('ignore')"
   ]
  },
  {
   "cell_type": "code",
   "execution_count": 2,
   "metadata": {
    "collapsed": false
   },
   "outputs": [],
   "source": [
    "import basketballCrawler as bc\n",
    "import pandas as pd"
   ]
  },
  {
   "cell_type": "markdown",
   "metadata": {},
   "source": [
    "We'll load stats from the local JSON file.  This file was generated on 03/09/2013."
   ]
  },
  {
   "cell_type": "code",
   "execution_count": 3,
   "metadata": {
    "collapsed": false
   },
   "outputs": [],
   "source": [
    "players = bc.loadPlayerDictionary('players.json')"
   ]
  },
  {
   "cell_type": "markdown",
   "metadata": {},
   "source": [
    "Now, searching for a player's name (needed as a key to access the player dictionary) is done using searchForName()"
   ]
  },
  {
   "cell_type": "code",
   "execution_count": 4,
   "metadata": {
    "collapsed": false
   },
   "outputs": [
    {
     "data": {
      "text/plain": [
       "[u'Mike James',\n",
       " u'Damion James',\n",
       " u'Jameer Nelson',\n",
       " u'Jan Vesely',\n",
       " u'Ryan Gomes',\n",
       " u'James Anderson',\n",
       " u'LeBron James',\n",
       " u'C.J. Miles',\n",
       " u'James Johnson',\n",
       " u'James Jones',\n",
       " u'James Singleton',\n",
       " u'Bernard James',\n",
       " u'James White',\n",
       " u'James Harden']"
      ]
     },
     "execution_count": 4,
     "metadata": {},
     "output_type": "execute_result"
    }
   ],
   "source": [
    "bc.searchForName(players, 'James')"
   ]
  },
  {
   "cell_type": "markdown",
   "metadata": {},
   "source": [
    "You can grab game-by-game stats with gameLogs().  Returns a pandas dataframe.  Takes a bit of time to scrape all the stats pages"
   ]
  },
  {
   "cell_type": "code",
   "execution_count": 5,
   "metadata": {
    "collapsed": false
   },
   "outputs": [],
   "source": [
    "lbj = bc.gameLogs(players, u'LeBron James')"
   ]
  },
  {
   "cell_type": "code",
   "execution_count": 6,
   "metadata": {
    "collapsed": false
   },
   "outputs": [
    {
     "data": {
      "text/html": [
       "<div>\n",
       "<table border=\"1\" class=\"dataframe\">\n",
       "  <thead>\n",
       "    <tr style=\"text-align: right;\">\n",
       "      <th></th>\n",
       "      <th>Date</th>\n",
       "      <th>Rk</th>\n",
       "      <th>G</th>\n",
       "      <th>Age</th>\n",
       "      <th>Tm</th>\n",
       "      <th>HomeAway</th>\n",
       "      <th>Opp</th>\n",
       "      <th>WinLoss</th>\n",
       "      <th>GS</th>\n",
       "      <th>MP</th>\n",
       "      <th>...</th>\n",
       "      <th>DRB</th>\n",
       "      <th>TRB</th>\n",
       "      <th>AST</th>\n",
       "      <th>STL</th>\n",
       "      <th>BLK</th>\n",
       "      <th>TOV</th>\n",
       "      <th>PF</th>\n",
       "      <th>PTS</th>\n",
       "      <th>GmSc</th>\n",
       "      <th>+/-</th>\n",
       "    </tr>\n",
       "  </thead>\n",
       "  <tbody>\n",
       "    <tr>\n",
       "      <th>0</th>\n",
       "      <td>2012-10-30</td>\n",
       "      <td>1</td>\n",
       "      <td>1</td>\n",
       "      <td>27-305</td>\n",
       "      <td>MIA</td>\n",
       "      <td>NaN</td>\n",
       "      <td>BOS</td>\n",
       "      <td>W (+13)</td>\n",
       "      <td>1</td>\n",
       "      <td>28:52</td>\n",
       "      <td>...</td>\n",
       "      <td>9</td>\n",
       "      <td>10</td>\n",
       "      <td>3</td>\n",
       "      <td>2</td>\n",
       "      <td>0</td>\n",
       "      <td>0</td>\n",
       "      <td>2</td>\n",
       "      <td>26</td>\n",
       "      <td>25.1</td>\n",
       "      <td>12</td>\n",
       "    </tr>\n",
       "    <tr>\n",
       "      <th>1</th>\n",
       "      <td>2012-11-02</td>\n",
       "      <td>2</td>\n",
       "      <td>2</td>\n",
       "      <td>27-308</td>\n",
       "      <td>MIA</td>\n",
       "      <td>@</td>\n",
       "      <td>NYK</td>\n",
       "      <td>L (-20)</td>\n",
       "      <td>1</td>\n",
       "      <td>36:41</td>\n",
       "      <td>...</td>\n",
       "      <td>7</td>\n",
       "      <td>7</td>\n",
       "      <td>5</td>\n",
       "      <td>0</td>\n",
       "      <td>3</td>\n",
       "      <td>5</td>\n",
       "      <td>2</td>\n",
       "      <td>23</td>\n",
       "      <td>16.5</td>\n",
       "      <td>-21</td>\n",
       "    </tr>\n",
       "    <tr>\n",
       "      <th>2</th>\n",
       "      <td>2012-11-03</td>\n",
       "      <td>3</td>\n",
       "      <td>3</td>\n",
       "      <td>27-309</td>\n",
       "      <td>MIA</td>\n",
       "      <td>NaN</td>\n",
       "      <td>DEN</td>\n",
       "      <td>W (+3)</td>\n",
       "      <td>1</td>\n",
       "      <td>39:12</td>\n",
       "      <td>...</td>\n",
       "      <td>8</td>\n",
       "      <td>9</td>\n",
       "      <td>11</td>\n",
       "      <td>0</td>\n",
       "      <td>2</td>\n",
       "      <td>0</td>\n",
       "      <td>2</td>\n",
       "      <td>20</td>\n",
       "      <td>22.7</td>\n",
       "      <td>7</td>\n",
       "    </tr>\n",
       "    <tr>\n",
       "      <th>3</th>\n",
       "      <td>2012-11-05</td>\n",
       "      <td>4</td>\n",
       "      <td>4</td>\n",
       "      <td>27-311</td>\n",
       "      <td>MIA</td>\n",
       "      <td>NaN</td>\n",
       "      <td>PHO</td>\n",
       "      <td>W (+25)</td>\n",
       "      <td>1</td>\n",
       "      <td>30:11</td>\n",
       "      <td>...</td>\n",
       "      <td>8</td>\n",
       "      <td>11</td>\n",
       "      <td>1</td>\n",
       "      <td>0</td>\n",
       "      <td>0</td>\n",
       "      <td>3</td>\n",
       "      <td>2</td>\n",
       "      <td>23</td>\n",
       "      <td>15.7</td>\n",
       "      <td>25</td>\n",
       "    </tr>\n",
       "    <tr>\n",
       "      <th>4</th>\n",
       "      <td>2012-11-07</td>\n",
       "      <td>5</td>\n",
       "      <td>5</td>\n",
       "      <td>27-313</td>\n",
       "      <td>MIA</td>\n",
       "      <td>NaN</td>\n",
       "      <td>BRK</td>\n",
       "      <td>W (+30)</td>\n",
       "      <td>1</td>\n",
       "      <td>29:59</td>\n",
       "      <td>...</td>\n",
       "      <td>8</td>\n",
       "      <td>12</td>\n",
       "      <td>8</td>\n",
       "      <td>1</td>\n",
       "      <td>0</td>\n",
       "      <td>2</td>\n",
       "      <td>1</td>\n",
       "      <td>20</td>\n",
       "      <td>23.8</td>\n",
       "      <td>18</td>\n",
       "    </tr>\n",
       "  </tbody>\n",
       "</table>\n",
       "<p>5 rows × 30 columns</p>\n",
       "</div>"
      ],
      "text/plain": [
       "        Date  Rk  G     Age   Tm HomeAway  Opp  WinLoss GS     MP ...   DRB  \\\n",
       "0 2012-10-30   1  1  27-305  MIA      NaN  BOS  W (+13)  1  28:52 ...     9   \n",
       "1 2012-11-02   2  2  27-308  MIA        @  NYK  L (-20)  1  36:41 ...     7   \n",
       "2 2012-11-03   3  3  27-309  MIA      NaN  DEN   W (+3)  1  39:12 ...     8   \n",
       "3 2012-11-05   4  4  27-311  MIA      NaN  PHO  W (+25)  1  30:11 ...     8   \n",
       "4 2012-11-07   5  5  27-313  MIA      NaN  BRK  W (+30)  1  29:59 ...     8   \n",
       "\n",
       "   TRB  AST  STL  BLK  TOV  PF  PTS  GmSc  +/-  \n",
       "0   10    3    2    0    0   2   26  25.1   12  \n",
       "1    7    5    0    3    5   2   23  16.5  -21  \n",
       "2    9   11    0    2    0   2   20  22.7    7  \n",
       "3   11    1    0    0    3   2   23  15.7   25  \n",
       "4   12    8    1    0    2   1   20  23.8   18  \n",
       "\n",
       "[5 rows x 30 columns]"
      ]
     },
     "execution_count": 6,
     "metadata": {},
     "output_type": "execute_result"
    }
   ],
   "source": [
    "lbj.reset_index().head()"
   ]
  },
  {
   "cell_type": "code",
   "execution_count": 7,
   "metadata": {
    "collapsed": false
   },
   "outputs": [
    {
     "data": {
      "text/plain": [
       "<matplotlib.axes._subplots.AxesSubplot at 0x11136da10>"
      ]
     },
     "execution_count": 7,
     "metadata": {},
     "output_type": "execute_result"
    },
    {
     "data": {
      "image/png": "[encoded data removed]",
      "text/plain": [
       "<matplotlib.figure.Figure at 0x10aa15d10>"
      ]
     },
     "metadata": {},
     "output_type": "display_data"
    }
   ],
   "source": [
    "lbj.PTS.plot(color='green', title='Points')"
   ]
  }
 ],
 "metadata": {
  "kernelspec": {
   "display_name": "Python 2",
   "language": "python",
   "name": "python2"
  },
  "language_info": {
   "codemirror_mode": {
    "name": "ipython",
    "version": 2
   },
   "file_extension": ".py",
   "mimetype": "text/x-python",
   "name": "python",
   "nbconvert_exporter": "python",
   "pygments_lexer": "ipython2",
   "version": "2.7.10"
  }
 },
 "nbformat": 4,
 "nbformat_minor": 0
}
